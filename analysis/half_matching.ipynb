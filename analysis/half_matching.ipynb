{
 "cells": [
  {
   "cell_type": "code",
   "execution_count": 24,
   "metadata": {},
   "outputs": [],
   "source": [
    "import torch\n",
    "import numpy as np"
   ]
  },
  {
   "cell_type": "code",
   "execution_count": 2,
   "metadata": {},
   "outputs": [],
   "source": [
    "oracle = [('a', 0.35, 0.46), ('black', 0.46, 0.75), ('and', 0.75, 0.88), ('yellow', 0.88, 1.08), ('bird', 1.08, 1.54), ('with', 1.58, 1.73), ('a', 1.73, 1.79), ('huge', 1.79, 2.43), ('colorful', 2.71, 3.13), ('beak', 3.13, 3.47), ('in', 3.47, 3.66), ('a', 3.66, 3.73), ('cage', 3.73, 4.27)]\n",
    "jason_word_feature = torch.tensor([[0.5026, 0.8243], [0.8645, 1.0856],[1.2062, 1.3872], [1.5681, 1.7289], [1.8697, 2.1913], [2.3924, 2.4125], [2.7542, 2.8950], [2.9955, 3.1362], [3.1965, 3.4378], [3.5182, 3.6589], [3.7996, 4.1012]])"
   ]
  },
  {
   "cell_type": "code",
   "execution_count": 27,
   "metadata": {},
   "outputs": [],
   "source": [
    "def half_matching(gt, pred):\n",
    "    p_gt = 0 # pointer for gt list\n",
    "    p_pred = 0 # pointer for pred list\n",
    "    alignment = []\n",
    "    while p_pred < len(pred):\n",
    "        gt_s, gt_e = gt[p_gt][1:]\n",
    "        pred_s, pred_e = pred[p_pred]\n",
    "        if pred_e < gt_s: # pred_s    pred_e  gt_s    gt_e\n",
    "            p_pred += 1\n",
    "        elif pred_s > gt_e: # gt_s    gt_e  pred_s    pred_e \n",
    "            p_gt += 1\n",
    "        elif pred_s <= gt_s and pred_e <= gt_e: # pred_s  gt_s  pred_e    gt_e\n",
    "            if (pred_e - gt_s) < (gt_s - pred_s): # pred_s     gt_s pred_e    gt_e\n",
    "                prev_gt_s, prev_gt_e = gt[p_gt-1][1:] # see if the pred seg overlap more with prev gt seg\n",
    "                if max(prev_gt_e - max(prev_gt_s, pred_s), 0) >= (pred_e - gt_s): #   prev_gt_s  pred_s     prev_gt_e gt_s pred_e    gt_e\n",
    "                    alignment.append([p_gt-1, p_pred])\n",
    "                    p_pred += 1\n",
    "                else:\n",
    "                    alignment.append([p_gt, p_pred])\n",
    "                    p_pred += 1              \n",
    "            else:\n",
    "                alignment.append([p_gt, p_pred])\n",
    "                p_pred += 1\n",
    "        elif pred_s >= gt_s and pred_e <= gt_e:  # gt_s    pred_s  pred_e    gt_e\n",
    "            alignment.append([p_gt, p_pred])\n",
    "            p_pred += 1\n",
    "        elif pred_s >= gt_s and pred_e >= gt_e:  # gt_s   pred_s      gt_e  pred_e\n",
    "            if (gt_e - pred_s) < (pred_e - gt_e): # gt_s      pred_s  gt_e         pred_e\n",
    "                p_gt += 1\n",
    "            else:\n",
    "                alignment.append([p_gt, p_pred])\n",
    "                p_pred += 1\n",
    "        elif pred_s < gt_s and pred_e > gt_e:  # pred_s    gt_s  gt_e       pred_e ||| this shouldn't happen very often\n",
    "            if (gt_e - gt_s) < (pred_e - pred_s)/2.: # pred_s    gt_s  gt_e       pred_e  \n",
    "                prev_gt_s, prev_gt_e = gt[p_gt-1][1:]\n",
    "                next_gt_s, next_gt_e = gt[p_gt+1][1:]\n",
    "                prev_overlap = max(prev_gt_s - max(prev_gt_s, prev_gt_s), 0)\n",
    "                next_overlap = max(next_gt_e - max(pred_e, next_gt_s), 0)\n",
    "                cur_overlap = gt_e - gt_s\n",
    "                if cur_overlap >= prev_overlap and cur_overlap >= next_overlap:\n",
    "                    alignment.append([p_gt, p_pred])\n",
    "                    p_gt += 1\n",
    "                elif prev_overlap > cur_overlap and prev_overlap >= next_overlap:\n",
    "                    alignment.append([p_gt-1, p_pred])\n",
    "                    p_gt +=1\n",
    "                else:\n",
    "                    alignment.append([p_gt+1, p_pred])\n",
    "                    p_pred += 1\n",
    "            else:\n",
    "                alignment.append([p_gt, p_pred])\n",
    "                p_gt += 1\n",
    "    return np.unique(alignment, axis=0).tolist()\n",
    "\n"
   ]
  },
  {
   "cell_type": "code",
   "execution_count": 30,
   "metadata": {},
   "outputs": [],
   "source": [
    "align = half_matching(oracle, jason_word_feature)"
   ]
  },
  {
   "cell_type": "code",
   "execution_count": 32,
   "metadata": {},
   "outputs": [
    {
     "name": "stdout",
     "output_type": "stream",
     "text": [
      "('black', 0.46, 0.75) tensor([0.5026, 0.8243])\n",
      "('yellow', 0.88, 1.08) tensor([0.8645, 1.0856])\n",
      "('bird', 1.08, 1.54) tensor([1.2062, 1.3872])\n",
      "('with', 1.58, 1.73) tensor([1.5681, 1.7289])\n",
      "('huge', 1.79, 2.43) tensor([1.8697, 2.1913])\n",
      "('huge', 1.79, 2.43) tensor([2.3924, 2.4125])\n",
      "('colorful', 2.71, 3.13) tensor([2.7542, 2.8950])\n",
      "('colorful', 2.71, 3.13) tensor([2.9955, 3.1362])\n",
      "('beak', 3.13, 3.47) tensor([3.1965, 3.4378])\n",
      "('in', 3.47, 3.66) tensor([3.5182, 3.6589])\n",
      "('cage', 3.73, 4.27) tensor([3.7996, 4.1012])\n"
     ]
    }
   ],
   "source": [
    "for item in align:\n",
    "    print(oracle[item[0]], jason_word_feature[item[1]])"
   ]
  },
  {
   "cell_type": "code",
   "execution_count": null,
   "metadata": {},
   "outputs": [],
   "source": []
  }
 ],
 "metadata": {
  "kernelspec": {
   "display_name": "tf2",
   "language": "python",
   "name": "tf2"
  },
  "language_info": {
   "codemirror_mode": {
    "name": "ipython",
    "version": 3
   },
   "file_extension": ".py",
   "mimetype": "text/x-python",
   "name": "python",
   "nbconvert_exporter": "python",
   "pygments_lexer": "ipython3",
   "version": "3.9.7"
  },
  "orig_nbformat": 4
 },
 "nbformat": 4,
 "nbformat_minor": 2
}
